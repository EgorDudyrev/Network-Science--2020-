{
 "cells": [
  {
   "cell_type": "markdown",
   "metadata": {
    "deletable": true,
    "editable": true
   },
   "source": [
    "# Project 2\n",
    "## Linear threshold model"
   ]
  },
  {
   "cell_type": "markdown",
   "metadata": {
    "deletable": true,
    "editable": true
   },
   "source": [
    "You are running the marketing campaign for brand new pocket device. Initially you can sign contracts with a few people to advertize your gadget among their neigbours. The more \"famous\" person you are picking the greater price appears in the contract.\n",
    "* Contract cost can be calculated as $300 \\$ \\times \\text{NN}(i)$, where $\\text{NN}(i)$ is size of the neigbourhood of the person $i$.\n",
    "* You earn $250\\$$ per each affected person\n",
    "\n",
    "Your task is to maximize your influence and maximize profit of your campaign, under threshold 15% and number of initial influencers below 10% of all nodes. Initially, you have not greater than 60,000$ and on every iteration of the marketing company you could not spent more than what you have.\n",
    "\n",
    "Profit is a difference between earning from the company and money spent on ads. You pass the competition with grade 4 at least, if you profit is positive and outperforms baselines below.\n",
    "\n",
    "**Baseline 1.** Pay to top-N most popular by degree.\n",
    "\n",
    "**Baseline 2.** Pay to random nodes simultaneously spending all the budget. Compute over 100 runs average profit."
   ]
  },
  {
   "cell_type": "code",
   "execution_count": null,
   "metadata": {
    "collapsed": true,
    "deletable": true,
    "editable": true
   },
   "outputs": [],
   "source": [
    "%matplotlib inline\n",
    "import numpy as np\n",
    "import matplotlib.pyplot as plt\n",
    "import networkx as nx\n",
    "import scipy.stats as st\n",
    "import pandas as pd\n",
    "import igraph as ig\n",
    "\n",
    "from IPython.display import SVG"
   ]
  },
  {
   "cell_type": "markdown",
   "metadata": {
    "deletable": true,
    "editable": true
   },
   "source": [
    "We are using Facebook network from first link on Stanford SNAP repository.\n",
    "\n",
    "[107.edges](https://snap.stanford.edu/data/ego-Facebook.html)"
   ]
  },
  {
   "cell_type": "code",
   "execution_count": null,
   "metadata": {
    "collapsed": false,
    "deletable": true,
    "editable": true
   },
   "outputs": [],
   "source": [
    "# getting edge data and creating graph structure\n",
    "edges = np.loadtxt(\"facebook/107.edges\", dtype=\"i8,i8\")\n",
    "G = nx.Graph()\n",
    "\n",
    "G.add_edges_from(edges)\n",
    "\n",
    "nx.write_graphml(G, \"facebook_107.graphml\")"
   ]
  }
 ],
 "metadata": {
  "kernelspec": {
   "display_name": "Python 2",
   "language": "python",
   "name": "python2"
  },
  "language_info": {
   "codemirror_mode": {
    "name": "ipython",
    "version": 2
   },
   "file_extension": ".py",
   "mimetype": "text/x-python",
   "name": "python",
   "nbconvert_exporter": "python",
   "pygments_lexer": "ipython2",
   "version": "2.7.13"
  }
 },
 "nbformat": 4,
 "nbformat_minor": 0
}
