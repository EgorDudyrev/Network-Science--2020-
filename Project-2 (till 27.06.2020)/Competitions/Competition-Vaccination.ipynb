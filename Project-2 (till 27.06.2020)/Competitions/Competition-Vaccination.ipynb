{
 "cells": [
  {
   "cell_type": "markdown",
   "metadata": {
    "deletable": true,
    "editable": true
   },
   "source": [
    "# <center>Project 2</center>"
   ]
  },
  {
   "cell_type": "markdown",
   "metadata": {
    "deletable": true,
    "editable": true
   },
   "source": [
    "### Task"
   ]
  },
  {
   "cell_type": "markdown",
   "metadata": {
    "deletable": true,
    "editable": true
   },
   "source": [
    "You are in charge of leading the vaccination campaign against nonlethal disease. You have options to vactinate or provide medical treatment to infected ones. However, everything has its costs:\n",
    "* Vaccination of a node costs $500 \\$$ and make it immune to the disease all life-long. Unfortunately, you can help this way only to no more than $10\\%$ of your population\n",
    "* Medical Treatment costs $120\\$$ per day of illness period, which in turn may take from $3$ to $7$ days\n",
    "\n",
    "Your task is to implement the simulation model, propose some vaccination strategies and compare them."
   ]
  },
  {
   "cell_type": "markdown",
   "metadata": {
    "deletable": true,
    "editable": true
   },
   "source": [
    "### Models"
   ]
  },
  {
   "cell_type": "markdown",
   "metadata": {
    "deletable": true,
    "editable": true
   },
   "source": [
    "Consider one of the following models:\n",
    "1. SIS- and SIR- based (or another with more than 3 letters) epidemic model\n",
    "2. Linear Threshold Model (threshold 15%)\n",
    "\n",
    "Number of time steps - 30. \n",
    "\n",
    "**Baseline** Random vaccination or vaccination of top degree centrality vertices.\n",
    "\n",
    "Final profit is computed as $500 \\$$ * $10\\%$ of population minus money spend on vaccination and curing disease."
   ]
  },
  {
   "cell_type": "markdown",
   "metadata": {
    "deletable": true,
    "editable": true
   },
   "source": [
    "### Data"
   ]
  },
  {
   "cell_type": "markdown",
   "metadata": {
    "deletable": true,
    "editable": true
   },
   "source": [
    "Use PLOS [dataset](https://journals.plos.org/ploscompbiol/article?id=10.1371/journal.pcbi.1001109#s2) of sexual escort market. It contains buyers as well as sellers of escort services. Contains about 15.000 nodes. As it is the real-world dataset, is it interesting to test a epidemic model on it. Use SIRS model- modification of SIR model, as 'recovering' nodes return to susceptible population after some time. Also, modify model to count recovery in days, not probabilistically."
   ]
  },
  {
   "cell_type": "code",
   "execution_count": null,
   "metadata": {
    "collapsed": true,
    "deletable": true,
    "editable": true
   },
   "outputs": [],
   "source": [
    "from urllib.request import urlopen\n",
    "import csv\n",
    "import networkx as nx\n",
    "import numpy as np\n",
    "import matplotlib.pyplot as plt\n",
    "import random\n",
    "from operator import itemgetter\n",
    "from scipy.sparse import csr_matrix\n",
    "import scipy.sparse.linalg as lg\n",
    "from numpy.linalg import lstsq\n",
    "import numpy as np\n",
    "%matplotlib inline\n"
   ]
  },
  {
   "cell_type": "code",
   "execution_count": 2,
   "metadata": {
    "collapsed": false,
    "deletable": true,
    "editable": true
   },
   "outputs": [],
   "source": [
    "dat = open('Dataset_S1.csv','rt')\n",
    "reader = csv.reader(dat,delimiter=';')\n",
    "Dset = list(reader)"
   ]
  },
  {
   "cell_type": "code",
   "execution_count": 3,
   "metadata": {
    "collapsed": false,
    "deletable": true,
    "editable": true
   },
   "outputs": [],
   "source": [
    "g = nx.Graph(directed=False)\n",
    "edgelist = []\n",
    "for i in range(len(Dset)):\n",
    "    if i>=24:\n",
    "        edgelist.append((Dset[i][0],Dset[i][1]))\n",
    "g.add_edges_from(edgelist)\n",
    "g = list(nx.connected_component_subgraphs(g))[0]"
   ]
  },
  {
   "cell_type": "markdown",
   "metadata": {
    "deletable": true,
    "editable": true
   },
   "source": [
    "Below example of use SIRS model - modification of SIR model, as our 'recovering' nodes return to susceptible population after some time.\n",
    "We also modify model to count recovery in days, not probabilistically."
   ]
  },
  {
   "cell_type": "markdown",
   "metadata": {
    "deletable": true,
    "editable": true
   },
   "source": [
    "\\begin{equation}\n",
    "   \\begin{cases}\n",
    "   \\cfrac{ds_i(t)}{dt} = -\\beta s_i(t)\\sum\\limits_j A_{ij} x_j(t) + \\gamma r_i(t) \\\\ \n",
    "   \\cfrac{dx_i(t)}{dt} = \\beta s_i(t)\\sum\\limits_j A_{ij} x_j(t) - \\gamma x_i(t)\\\\\n",
    "   \\cfrac{dr_i(t)}{dt} = \\gamma x_i(t) - \\gamma r_i(t)\n",
    "  \\end{cases}\n",
    "  \\\\\n",
    "  x_i(t) + s_i(t) + r_i(t) = 1\n",
    "\\end{equation}"
   ]
  },
  {
   "cell_type": "code",
   "execution_count": 4,
   "metadata": {
    "collapsed": false,
    "deletable": true,
    "editable": true
   },
   "outputs": [],
   "source": [
    "# may be used to make graph more dinamic if needed, as average degree is not very high\n",
    "def random_edge(g,t):\n",
    "    while i<=t:\n",
    "        possible_nodes = set(g.nodes())\n",
    "        first_node = choice(g.nodes())\n",
    "        neighbours = g.neighbors(first_node) + [first_node]\n",
    "        possible_nodes.difference_update(neighbours)\n",
    "        second_node = choice(list(possible_nodes))\n",
    "        g.add_edge(first_node,second_node)"
   ]
  },
  {
   "cell_type": "markdown",
   "metadata": {
    "deletable": true,
    "editable": true
   },
   "source": [
    "**Default parameters for Epidemic modelling**"
   ]
  },
  {
   "cell_type": "code",
   "execution_count": 90,
   "metadata": {
    "collapsed": false,
    "deletable": true,
    "editable": true
   },
   "outputs": [],
   "source": [
    "#creating sorted adjacency matrix to iterate\n",
    "#it is sorted by node degree-will be used later\n",
    "nodelist = g.nodes()\n",
    "deg = nx.degree(g)\n",
    "sorted_deg = sorted(deg.items(),key=itemgetter(1),reverse=True)\n",
    "sortlist =[a[0]for a in sorted_deg]\n",
    "A = np.array(nx.adjacency_matrix(g,nodelist = sortlist).todense())\n"
   ]
  },
  {
   "cell_type": "code",
   "execution_count": 25,
   "metadata": {
    "collapsed": false,
    "deletable": true,
    "editable": true
   },
   "outputs": [],
   "source": [
    "#defining randomiser for infection spread\n",
    "#also choosing number of initially infected individuals\n",
    "idx = np.random.choice(len(nodelist),20)\n",
    "I = np.zeros(len(nodelist))\n",
    "R = np.zeros(len(nodelist))\n",
    "S = np.ones(len(nodelist))\n",
    "I[idx]=1\n",
    "S[idx]=0\n",
    "def lottery(y,alph):\n",
    "    V = np.zeros(len(y))\n",
    "    for i in range(len(y)):\n",
    "        x = random.random()\n",
    "        if x < (1-(1-alph)**y[i]):\n",
    "            V[i] = 1\n",
    "        else:\n",
    "            V[i] = 0\n",
    "    return V\n",
    "del nodelist, deg, sorted_deg,sortlist"
   ]
  },
  {
   "cell_type": "code",
   "execution_count": 29,
   "metadata": {
    "collapsed": false,
    "deletable": true,
    "editable": true
   },
   "outputs": [],
   "source": [
    "#function for time-based recovery:\n",
    "#the infection now takes from 3 to 7 days to cure\n",
    "def timestamp(y,Y):\n",
    "    V = np.zeros(len(y))\n",
    "    for i in range(len(y)):\n",
    "        V[i] = random.randrange(3,7,1)*y[i]\n",
    "    D=np.zeros(len(y))\n",
    "    C=np.zeros(len(y))\n",
    "    for j in range(len(y)):\n",
    "        if Y[j]>1:\n",
    "            D[j] = Y[j]-1\n",
    "        elif Y[j]==1:\n",
    "            C[j] = 1\n",
    "    D = [x + y for x, y in zip(D, V)]\n",
    "    return([D,C])\n",
    "   "
   ]
  },
  {
   "cell_type": "code",
   "execution_count": 10,
   "metadata": {
    "collapsed": false,
    "deletable": true,
    "editable": true
   },
   "outputs": [],
   "source": [
    "#our iterative epidemic function, based on model\n",
    "def epidemic(bet,gam,delt,R,I,S,A,T):\n",
    "    t=1\n",
    "    rnd = list()\n",
    "    R = np.zeros(len(I))\n",
    "    di = I\n",
    "    while t <=T:\n",
    "        D = csr_matrix(A)*csr_matrix(np.diag(S))\n",
    "        ss_matr = (csr_matrix(I)*D).todense().tolist()[0]\n",
    "        ds = lottery(R,delt)\n",
    "        dr = lottery(I,gam)\n",
    "        di = lottery(ss_matr,bet)\n",
    "        dI = np.subtract(di,dr)\n",
    "        dS = np.subtract(ds,di)\n",
    "        dR = np.subtract(dr,ds)\n",
    "        I = I+dI\n",
    "        S = S+dS\n",
    "        R = R+dR\n",
    "        rn = [sum(I),sum(S),sum(R)]\n",
    "        rnd.append([round(x/len(I),2) for x in rn])\n",
    "        t+=1\n",
    "    return(rnd)\n",
    "    \n"
   ]
  },
  {
   "cell_type": "markdown",
   "metadata": {},
   "source": [
    "**Three competition scenarios for model parameters**"
   ]
  },
  {
   "cell_type": "code",
   "execution_count": 20,
   "metadata": {
    "collapsed": false,
    "deletable": true,
    "editable": true
   },
   "outputs": [],
   "source": [
    "T1 = epidemic(0.3,0.1,0.1,R,I,S,A,30)"
   ]
  },
  {
   "cell_type": "code",
   "execution_count": 28,
   "metadata": {
    "collapsed": true,
    "deletable": true,
    "editable": true
   },
   "outputs": [],
   "source": [
    "T2 = epidemic(0.2,0.5,0.2,R,I,S,A,30)"
   ]
  },
  {
   "cell_type": "code",
   "execution_count": 11,
   "metadata": {
    "collapsed": false,
    "deletable": true,
    "editable": true
   },
   "outputs": [],
   "source": [
    "T3 = epidemic(0.7,0.05,0.5,R,I,S,A,30)"
   ]
  },
  {
   "cell_type": "markdown",
   "metadata": {
    "deletable": true,
    "editable": true
   },
   "source": [
    "Here, we compute and review different ways the infection can spread, given different parameters  "
   ]
  },
  {
   "cell_type": "code",
   "execution_count": null,
   "metadata": {
    "collapsed": false,
    "deletable": true,
    "editable": true
   },
   "outputs": [],
   "source": [
    "def epidemic_healed(bet,gam,R,I,S,A,T,h,p):\n",
    "   ##put your code here\n",
    "return(rnd)    "
   ]
  },
  {
   "cell_type": "code",
   "execution_count": 91,
   "metadata": {
    "collapsed": false,
    "deletable": true,
    "editable": true
   },
   "outputs": [],
   "source": [
    "T4_h =(epidemic_healed(0.2,0.1,R,I,S,A,25,1,3))"
   ]
  },
  {
   "cell_type": "code",
   "execution_count": 100,
   "metadata": {
    "collapsed": false,
    "deletable": true,
    "editable": true
   },
   "outputs": [],
   "source": [
    "T4_h3 = (epidemic_healed(0.2,0.1,R,I,S,A,25,1,5))"
   ]
  },
  {
   "cell_type": "code",
   "execution_count": 93,
   "metadata": {
    "collapsed": true,
    "deletable": true,
    "editable": true
   },
   "outputs": [],
   "source": [
    "T4_h2 =(epidemic_healed(0.2,0.1,R,I,S,A,25,1,10))"
   ]
  }
 ],
 "metadata": {
  "kernelspec": {
   "display_name": "Python 2",
   "language": "python",
   "name": "python2"
  },
  "language_info": {
   "codemirror_mode": {
    "name": "ipython",
    "version": 2
   },
   "file_extension": ".py",
   "mimetype": "text/x-python",
   "name": "python",
   "nbconvert_exporter": "python",
   "pygments_lexer": "ipython2",
   "version": "2.7.13"
  }
 },
 "nbformat": 4,
 "nbformat_minor": 0
}
