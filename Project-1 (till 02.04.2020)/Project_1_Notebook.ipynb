{
 "cells": [
  {
   "cell_type": "code",
   "execution_count": 1,
   "metadata": {},
   "outputs": [
    {
     "data": {
      "text/html": [
       "<style>.container { width:90% !important; }</style>"
      ],
      "text/plain": [
       "<IPython.core.display.HTML object>"
      ]
     },
     "metadata": {},
     "output_type": "display_data"
    }
   ],
   "source": [
    "from IPython.core.display import display, HTML\n",
    "display(HTML(\"<style>.container { width:90% !important; }</style>\"))"
   ]
  },
  {
   "cell_type": "code",
   "execution_count": 2,
   "metadata": {},
   "outputs": [],
   "source": [
    "import json, sys\n",
    "from urllib import request\n",
    "from copy import copy\n",
    "\n",
    "import numpy as np\n",
    "import matplotlib.pyplot as plt\n",
    "import seaborn as sns\n",
    "import networkx as nx"
   ]
  },
  {
   "cell_type": "markdown",
   "metadata": {},
   "source": [
    "# Network Summary"
   ]
  },
  {
   "cell_type": "markdown",
   "metadata": {},
   "source": [
    "## Network source and preprocesing"
   ]
  },
  {
   "cell_type": "code",
   "execution_count": 3,
   "metadata": {},
   "outputs": [],
   "source": [
    "CLIENT_ID = 56337756\n",
    "APP_ID = 7379264"
   ]
  },
  {
   "cell_type": "markdown",
   "metadata": {},
   "source": [
    "Load friends data from VK"
   ]
  },
  {
   "cell_type": "raw",
   "metadata": {},
   "source": [
    "# Your token - sequence of symbols that goes after access_token=\n",
    "token = 'ad2d54a4cf4591c44a229d1b85d14665364670f02f4e4bf28dadc5d1e937643483f62bd7b8a80464f2ffa' \n",
    "\n",
    "# Suppose you want to get a friendlist of a particular user.\n",
    "# You also want hometown, sex and education to be contained in this list.\n",
    "# Finnaly, I suggest to put lang=en to aviod cyrillic issues\n",
    "uid = str(CLIENT_ID)\n",
    "url  = u'https://api.vk.com/method/friends.get?fields=sex,city,education&uid=%s&lang=en&v=5.52&access_token=%s' %(uid ,token)\n",
    "\n",
    "res  = request.urlopen(url).read()\n",
    "data = json.loads( res )"
   ]
  },
  {
   "cell_type": "markdown",
   "metadata": {},
   "source": [
    "Drop deactivated accounts"
   ]
  },
  {
   "cell_type": "raw",
   "metadata": {},
   "source": [
    "my_friends_data = [u for u in data['response']['items'] if 'deactivated' not in u]"
   ]
  },
  {
   "cell_type": "raw",
   "metadata": {},
   "source": [
    "# Your uid\n",
    "me = str(CLIENT_ID)\n",
    "\n",
    "# Using results of get.friends request\n",
    "datas = []\n",
    "for i in range(0, len(my_friends_data)//100+1,1):\n",
    "    uids = []\n",
    "    for u in my_friends_data:\n",
    "        uids.append(str(u['id']))\n",
    "    uids = ','.join(uids[i*100:(i+1)*100])\n",
    "    # Mutual Friends Request\n",
    "    url  = u'https://api.vk.com/method/friends.getMutual?target_uids=%s&source_uid=%s&lang=en&v=5.52&access_token=%s' %(uids, me ,token)\n",
    "    # Our Result\n",
    "    res  = request.urlopen(url).read()\n",
    "    data = json.loads( res )\n",
    "    datas += data['response']\n",
    "mutual_frieds_data = datas"
   ]
  },
  {
   "cell_type": "markdown",
   "metadata": {},
   "source": [
    "Add my info to the network. Maybe it will be usefull"
   ]
  },
  {
   "cell_type": "raw",
   "metadata": {},
   "source": [
    "my_data = {'id':CLIENT_ID,\n",
    "          'first_name':'Egor',\n",
    "           'last_name':'Dudyrev',\n",
    "           'sex': 2,\n",
    "           'city': {'id':1, 'title':'Moscow'},\n",
    "           'university':128,\n",
    "           'university_name': 'НИУ ВШЭ (ГУ-ВШЭ)',\n",
    "           'faculty': 0,\n",
    "           'faculty_name':'',\n",
    "           'graduation':0,\n",
    "           'education_status':\"Student (Master's)\",\n",
    "          }"
   ]
  },
  {
   "cell_type": "raw",
   "metadata": {},
   "source": [
    "nodes_data = {u['id']: u for u in my_friends_data}\n",
    "nodes_data[CLIENT_ID] = my_data"
   ]
  },
  {
   "cell_type": "raw",
   "metadata": {},
   "source": [
    "connections_data = {u['id']:u['common_friends'] for u in mutual_frieds_data}\n",
    "connections_data[CLIENT_ID] = [u['id'] for u in my_friends_data]"
   ]
  },
  {
   "cell_type": "markdown",
   "metadata": {},
   "source": [
    "Saving data"
   ]
  },
  {
   "cell_type": "raw",
   "metadata": {},
   "source": [
    "with open('data/nodes_data.json','w') as f:\n",
    "    json.dump(nodes_data, f)\n",
    "with open('data/connections_data.json','w') as f:\n",
    "    json.dump(connections_data, f)"
   ]
  },
  {
   "cell_type": "markdown",
   "metadata": {},
   "source": [
    "Load data"
   ]
  },
  {
   "cell_type": "code",
   "execution_count": 4,
   "metadata": {},
   "outputs": [],
   "source": [
    "with open('data/nodes_data.json','r') as f:\n",
    "    nodes_data = json.load(f)\n",
    "with open('data/connections_data.json','r') as f:\n",
    "    connections_data = json.load(f)"
   ]
  },
  {
   "cell_type": "markdown",
   "metadata": {},
   "source": [
    "Drop My data as it's happend to be useless"
   ]
  },
  {
   "cell_type": "code",
   "execution_count": 5,
   "metadata": {},
   "outputs": [],
   "source": [
    "nodes_data = {k:v for k,v in nodes_data.items() if v['id']!=CLIENT_ID}\n",
    "connections_data = {k:[v_ for v_ in v if v_!=CLIENT_ID] for k,v in connections_data.items() if k!=str(CLIENT_ID)}"
   ]
  },
  {
   "cell_type": "markdown",
   "metadata": {},
   "source": [
    "Turn every node ID to string to prevent indexing mistakes"
   ]
  },
  {
   "cell_type": "code",
   "execution_count": 6,
   "metadata": {},
   "outputs": [],
   "source": [
    "connections_data = {k: [v_ for v_ in v if str(v_) in connections_data.keys()]\n",
    "                    for k,v in connections_data.items()}\n",
    "nodes_data = {str(k):v for k,v in nodes_data.items()}\n",
    "connections_data = {str(k):[str(v_) for v_ in v] for k,v in connections_data.items()}"
   ]
  },
  {
   "cell_type": "code",
   "execution_count": 7,
   "metadata": {},
   "outputs": [],
   "source": [
    "G = nx.from_dict_of_lists(connections_data)"
   ]
  },
  {
   "cell_type": "markdown",
   "metadata": {},
   "source": [
    "# Network Summary"
   ]
  },
  {
   "cell_type": "markdown",
   "metadata": {},
   "source": [
    "## Run Gephi to create understandable layout"
   ]
  },
  {
   "cell_type": "markdown",
   "metadata": {},
   "source": [
    "Firstly, define position of nodes in the graph"
   ]
  },
  {
   "cell_type": "code",
   "execution_count": 8,
   "metadata": {},
   "outputs": [],
   "source": [
    "nx.write_gml(G, 'network.gml')"
   ]
  },
  {
   "cell_type": "markdown",
   "metadata": {},
   "source": [
    "Load gephi graph and add info to it"
   ]
  },
  {
   "cell_type": "code",
   "execution_count": 9,
   "metadata": {},
   "outputs": [],
   "source": [
    "G = nx.Graph(nx.read_gml('network_prettify_3.gml',))"
   ]
  },
  {
   "cell_type": "code",
   "execution_count": 10,
   "metadata": {},
   "outputs": [],
   "source": [
    "for k,d in nodes_data.items():\n",
    "    for k_, v_ in d.items():\n",
    "        if k_ in ['id', 'first_name', 'last_name', 'city', 'university_name', 'faculty_name']:\n",
    "            G.nodes[str(k)][k_] = v_"
   ]
  },
  {
   "cell_type": "markdown",
   "metadata": {},
   "source": [
    "Getting _pos_ feature based on Gephi layout"
   ]
  },
  {
   "cell_type": "code",
   "execution_count": 11,
   "metadata": {},
   "outputs": [],
   "source": [
    "for n in G.nodes:\n",
    "    G.nodes[n]['pos'] = (G.nodes[n]['graphics']['x'], G.nodes[n]['graphics']['y'])\n",
    "    if 'city' in G.nodes[n]:\n",
    "        G.nodes[n]['city'] = G.nodes[n]['city']['title']"
   ]
  },
  {
   "cell_type": "markdown",
   "metadata": {},
   "source": [
    "Prepare graph for plotly"
   ]
  },
  {
   "cell_type": "code",
   "execution_count": 12,
   "metadata": {},
   "outputs": [],
   "source": [
    "nodelist = list(G.nodes)\n",
    "\n",
    "pos = {n: (G.nodes[n]['graphics']['x'], G.nodes[n]['graphics']['y']) for n in nodelist}\n",
    "\n",
    "dgrs = nx.degree(G)\n",
    "sizes_by_degree = np.array([dgrs[n] for n in nodelist])\n",
    "sizes_by_degree = np.log1p(sizes_by_degree/5)**3+7\n",
    "\n",
    "colors_by_city = [{'Moscow':'orange', 'Izhevsk':'green'}.get(G.nodes[n]['city'], 'grey')\n",
    "        if 'city' in G.nodes[n] else 'grey' for n in nodelist]"
   ]
  },
  {
   "cell_type": "code",
   "execution_count": 13,
   "metadata": {},
   "outputs": [],
   "source": [
    "for n, x in zip(nodelist, sizes_by_degree):\n",
    "    G.nodes[n]['size_by_degree'] = x"
   ]
  },
  {
   "cell_type": "code",
   "execution_count": 14,
   "metadata": {},
   "outputs": [],
   "source": [
    "import plotly.graph_objects as go"
   ]
  },
  {
   "cell_type": "markdown",
   "metadata": {},
   "source": [
    "## Node/Edge attributes"
   ]
  },
  {
   "cell_type": "markdown",
   "metadata": {},
   "source": [
    "node attributes"
   ]
  },
  {
   "cell_type": "code",
   "execution_count": 15,
   "metadata": {},
   "outputs": [
    {
     "data": {
      "text/plain": [
       "dict_keys(['graphics', 'id', 'first_name', 'last_name', 'city', 'university_name', 'faculty_name', 'pos', 'size_by_degree'])"
      ]
     },
     "execution_count": 15,
     "metadata": {},
     "output_type": "execute_result"
    }
   ],
   "source": [
    "G.nodes[\"779564\"].keys()"
   ]
  },
  {
   "cell_type": "markdown",
   "metadata": {},
   "source": [
    "* id - ID пользователя ВК\n",
    "* first_name - Имя\n",
    "* last_name - Фамилия\n",
    "* city - Город\n",
    "* university_name - Университет\n",
    "* faculty_name - Факультет\n",
    "* pos - координата узла (создана в Gephi)\n",
    "* graphics - данные от Gephi"
   ]
  },
  {
   "cell_type": "markdown",
   "metadata": {},
   "source": [
    "edge attributes"
   ]
  },
  {
   "cell_type": "code",
   "execution_count": 16,
   "metadata": {},
   "outputs": [
    {
     "data": {
      "text/plain": [
       "{'id': 3288, 'value': 1.0}"
      ]
     },
     "execution_count": 16,
     "metadata": {},
     "output_type": "execute_result"
    }
   ],
   "source": [
    "G.edges[('779564','2661229')]"
   ]
  },
  {
   "cell_type": "markdown",
   "metadata": {},
   "source": [
    "* id - номер ребра\n",
    "* value - вес (= 1)"
   ]
  },
  {
   "cell_type": "markdown",
   "metadata": {},
   "source": [
    "## Size, Order"
   ]
  },
  {
   "cell_type": "code",
   "execution_count": 17,
   "metadata": {},
   "outputs": [
    {
     "name": "stdout",
     "output_type": "stream",
     "text": [
      "Order of network: 244\n",
      "Size of network: 1657\n"
     ]
    }
   ],
   "source": [
    "print(f\"Order of network: {len(G.nodes)}\")\n",
    "print(f\"Size of network: {len(G.edges)}\")"
   ]
  },
  {
   "cell_type": "markdown",
   "metadata": {},
   "source": [
    "## Gorgeous network layout"
   ]
  },
  {
   "cell_type": "markdown",
   "metadata": {},
   "source": [
    "Code to plot graph using plotly"
   ]
  },
  {
   "cell_type": "code",
   "execution_count": 18,
   "metadata": {},
   "outputs": [],
   "source": [
    "def plotly_graph(G, node_color, node_size, title=''):\n",
    "    edge_x = []\n",
    "    edge_y = []\n",
    "    for edge in G.edges():\n",
    "        x0, y0 = G.nodes[edge[0]]['pos']\n",
    "        x1, y1 = G.nodes[edge[1]]['pos']\n",
    "        edge_x.append(x0)\n",
    "        edge_x.append(x1)\n",
    "        edge_x.append(None)\n",
    "        edge_y.append(y0)\n",
    "        edge_y.append(y1)\n",
    "        edge_y.append(None)\n",
    "\n",
    "    edge_trace = go.Scatter(\n",
    "        x=edge_x, y=edge_y,\n",
    "        line=dict(width=0.5, color='#888'),\n",
    "        hoverinfo='none',\n",
    "        mode='lines')\n",
    "\n",
    "    node_x = []\n",
    "    node_y = []\n",
    "    for node in G.nodes():\n",
    "        x, y = G.nodes[node]['pos']\n",
    "        node_x.append(x)\n",
    "        node_y.append(y)\n",
    "\n",
    "    node_trace = go.Scatter(\n",
    "        x=node_x, y=node_y,\n",
    "        mode='markers',\n",
    "        hoverinfo='text',\n",
    "        marker=dict(\n",
    "            showscale=False,\n",
    "            color=node_color,\n",
    "            size=node_size,\n",
    "            line_width=2\n",
    "        )\n",
    "    )\n",
    "    \n",
    "    node_text = [f\"<br>\".join([f\"{k}: {v}\" for k,v in G.nodes[n].items()\n",
    "                               if k not in ['graphics','pos']]) for n in G.nodes]\n",
    "\n",
    "    node_trace.text = node_text\n",
    "    \n",
    "    fig = go.Figure(data=[edge_trace, node_trace],\n",
    "             layout=go.Layout(\n",
    "                title=title,\n",
    "                titlefont_size=16,\n",
    "                showlegend=False,\n",
    "                hovermode='closest',\n",
    "                margin=dict(b=20,l=5,r=5,t=40),\n",
    "                xaxis=dict(showgrid=False, zeroline=False, showticklabels=False),\n",
    "                yaxis=dict(showgrid=False, zeroline=False, showticklabels=False))\n",
    "                )\n",
    "    return fig"
   ]
  },
  {
   "cell_type": "code",
   "execution_count": 19,
   "metadata": {},
   "outputs": [],
   "source": [
    "fig = plotly_graph(G, node_color=colors_by_city, node_size=sizes_by_degree, title='Graph of friends by city (As example)')"
   ]
  },
  {
   "cell_type": "raw",
   "metadata": {},
   "source": [
    "fig.show()"
   ]
  },
  {
   "cell_type": "markdown",
   "metadata": {},
   "source": [
    "![nodes_by_city](../imgs/nodes_by_city.png)"
   ]
  },
  {
   "cell_type": "markdown",
   "metadata": {},
   "source": [
    "## Degree distribution\n",
    "Diameter, Clustering Coefficient"
   ]
  },
  {
   "cell_type": "code",
   "execution_count": 20,
   "metadata": {},
   "outputs": [],
   "source": [
    "ccs_idxs = list(nx.connected_components(G))\n",
    "ccs_idxs = sorted(ccs_idxs, key= lambda cc_idxs: -len(cc_idxs) )\n",
    "ccs_Gs = [nx.subgraph(G, cc_idxs) for cc_idxs in ccs_idxs]"
   ]
  },
  {
   "cell_type": "code",
   "execution_count": 21,
   "metadata": {},
   "outputs": [
    {
     "name": "stdout",
     "output_type": "stream",
     "text": [
      "Number of connected components: 14\n",
      "Orders of connected components: 155, 42, 28, 6, 4, 1, 1, 1, 1, 1, 1, 1, 1, 1\n",
      "Sizes of connected components: 1234, 318, 93, 7, 5, 0, 0, 0, 0, 0, 0, 0, 0, 0\n",
      "Diameters of connected components: 7, 5, 6, 3, 2, 0, 0, 0, 0, 0, 0, 0, 0, 0\n"
     ]
    }
   ],
   "source": [
    "print(f\"Number of connected components: {len(ccs_idxs)}\")\n",
    "print(f\"Orders of connected components:\", ', '.join([f\"{len(cc_G.nodes())}\" for cc_G in ccs_Gs]))\n",
    "print(f\"Sizes of connected components:\", ', '.join([f\"{len(cc_G.edges())}\" for cc_G in ccs_Gs]))\n",
    "print(f\"Diameters of connected components:\", ', '.join([f\"{nx.diameter(cc_G)}\" for cc_G in ccs_Gs]))"
   ]
  },
  {
   "cell_type": "code",
   "execution_count": 22,
   "metadata": {},
   "outputs": [
    {
     "name": "stdout",
     "output_type": "stream",
     "text": [
      "Mean Clustering Coefficient: 0.5712\n",
      "Clustering coefficients of Connected Components: 0.55, 0.68, 0.73, 0.17, 0.83, 0.00, 0.00, 0.00, 0.00, 0.00, 0.00, 0.00, 0.00, 0.00\n"
     ]
    }
   ],
   "source": [
    "print(f\"Mean Clustering Coefficient: {nx.cluster.average_clustering(G):.4f}\")\n",
    "print(f'Clustering coefficients of Connected Components:',\n",
    "      ', '.join([f\"{nx.cluster.average_clustering(cc_G):.2f}\" for cc_G in ccs_Gs]))"
   ]
  },
  {
   "cell_type": "code",
   "execution_count": 23,
   "metadata": {},
   "outputs": [],
   "source": [
    "import pandas as pd"
   ]
  },
  {
   "cell_type": "code",
   "execution_count": 24,
   "metadata": {},
   "outputs": [],
   "source": [
    "ccs_ds = pd.DataFrame()\n",
    "ccs_ds['idxs'] = ccs_idxs\n",
    "ccs_ds['subgraph'] = ccs_Gs\n",
    "ccs_ds['order'] = ccs_ds['subgraph'].apply(lambda G: len(G.nodes))\n",
    "ccs_ds['size'] = ccs_ds['subgraph'].apply(lambda G: len(G.edges))\n",
    "ccs_ds['diameter'] = ccs_ds['subgraph'].apply(lambda G: nx.diameter(G))\n",
    "ccs_ds['clustering_coef'] = ccs_ds['subgraph'].apply(lambda G: nx.cluster.average_clustering(G))"
   ]
  },
  {
   "cell_type": "code",
   "execution_count": 25,
   "metadata": {},
   "outputs": [
    {
     "data": {
      "text/html": [
       "<div>\n",
       "<style scoped>\n",
       "    .dataframe tbody tr th:only-of-type {\n",
       "        vertical-align: middle;\n",
       "    }\n",
       "\n",
       "    .dataframe tbody tr th {\n",
       "        vertical-align: top;\n",
       "    }\n",
       "\n",
       "    .dataframe thead th {\n",
       "        text-align: right;\n",
       "    }\n",
       "</style>\n",
       "<table border=\"1\" class=\"dataframe\">\n",
       "  <thead>\n",
       "    <tr style=\"text-align: right;\">\n",
       "      <th></th>\n",
       "      <th>idxs</th>\n",
       "      <th>subgraph</th>\n",
       "      <th>order</th>\n",
       "      <th>size</th>\n",
       "      <th>diameter</th>\n",
       "      <th>clustering_coef</th>\n",
       "    </tr>\n",
       "  </thead>\n",
       "  <tbody>\n",
       "    <tr>\n",
       "      <th>0</th>\n",
       "      <td>{71261737, 142326528, 779564, 101717228, 14416...</td>\n",
       "      <td>(779564, 1383897, 1950025, 2661229, 3217886, 4...</td>\n",
       "      <td>155</td>\n",
       "      <td>1234</td>\n",
       "      <td>7</td>\n",
       "      <td>0.554982</td>\n",
       "    </tr>\n",
       "    <tr>\n",
       "      <th>1</th>\n",
       "      <td>{28929682, 3085654, 155630933, 29207672, 29070...</td>\n",
       "      <td>(28929682, 3085654, 155630933, 29207672, 29070...</td>\n",
       "      <td>42</td>\n",
       "      <td>318</td>\n",
       "      <td>5</td>\n",
       "      <td>0.676960</td>\n",
       "    </tr>\n",
       "    <tr>\n",
       "      <th>2</th>\n",
       "      <td>{123519751, 5191654, 9100532, 142844991, 30380...</td>\n",
       "      <td>(5191654, 123519751, 9100532, 303804619, 14284...</td>\n",
       "      <td>28</td>\n",
       "      <td>93</td>\n",
       "      <td>6</td>\n",
       "      <td>0.734908</td>\n",
       "    </tr>\n",
       "    <tr>\n",
       "      <th>3</th>\n",
       "      <td>{88113309, 44200088, 43048325, 72420610, 42367...</td>\n",
       "      <td>(44200088, 88113309, 43048325, 72420610, 42367...</td>\n",
       "      <td>6</td>\n",
       "      <td>7</td>\n",
       "      <td>3</td>\n",
       "      <td>0.166667</td>\n",
       "    </tr>\n",
       "    <tr>\n",
       "      <th>4</th>\n",
       "      <td>{94467180, 156070020, 126150356, 135818294}</td>\n",
       "      <td>(94467180, 156070020, 126150356, 135818294)</td>\n",
       "      <td>4</td>\n",
       "      <td>5</td>\n",
       "      <td>2</td>\n",
       "      <td>0.833333</td>\n",
       "    </tr>\n",
       "  </tbody>\n",
       "</table>\n",
       "</div>"
      ],
      "text/plain": [
       "                                                idxs  \\\n",
       "0  {71261737, 142326528, 779564, 101717228, 14416...   \n",
       "1  {28929682, 3085654, 155630933, 29207672, 29070...   \n",
       "2  {123519751, 5191654, 9100532, 142844991, 30380...   \n",
       "3  {88113309, 44200088, 43048325, 72420610, 42367...   \n",
       "4        {94467180, 156070020, 126150356, 135818294}   \n",
       "\n",
       "                                            subgraph  order  size  diameter  \\\n",
       "0  (779564, 1383897, 1950025, 2661229, 3217886, 4...    155  1234         7   \n",
       "1  (28929682, 3085654, 155630933, 29207672, 29070...     42   318         5   \n",
       "2  (5191654, 123519751, 9100532, 303804619, 14284...     28    93         6   \n",
       "3  (44200088, 88113309, 43048325, 72420610, 42367...      6     7         3   \n",
       "4        (94467180, 156070020, 126150356, 135818294)      4     5         2   \n",
       "\n",
       "   clustering_coef  \n",
       "0         0.554982  \n",
       "1         0.676960  \n",
       "2         0.734908  \n",
       "3         0.166667  \n",
       "4         0.833333  "
      ]
     },
     "execution_count": 25,
     "metadata": {},
     "output_type": "execute_result"
    }
   ],
   "source": [
    "ccs_ds.head()"
   ]
  },
  {
   "cell_type": "markdown",
   "metadata": {},
   "source": [
    "# Structural Analysis"
   ]
  },
  {
   "cell_type": "markdown",
   "metadata": {},
   "source": [
    "## Degree/Closeness/Betweennes centralities\n",
    "Top nodes interpretation"
   ]
  },
  {
   "cell_type": "code",
   "execution_count": 26,
   "metadata": {},
   "outputs": [],
   "source": [
    "import numpy as np\n",
    "import pandas as pd\n",
    "import matplotlib.pyplot as plt\n",
    "import seaborn as sns"
   ]
  },
  {
   "cell_type": "code",
   "execution_count": 27,
   "metadata": {},
   "outputs": [],
   "source": [
    "def get_degrees(G):\n",
    "    return pd.Series(dict(nx.degree(G))).sort_values(ascending=False)\n",
    "\n",
    "def get_degree_centrality(G):\n",
    "    return pd.Series(dict(nx.degree_centrality(G))).sort_values(ascending=False)\n",
    "\n",
    "def get_closeness_centr(G):\n",
    "    return pd.Series(dict(nx.closeness_centrality(G))).sort_values(ascending=False)\n",
    "\n",
    "def get_betweeness_centr(G):\n",
    "    return pd.Series(nx.betweenness_centrality(G)).sort_values(ascending=False)"
   ]
  },
  {
   "cell_type": "markdown",
   "metadata": {},
   "source": [
    "### Degree"
   ]
  },
  {
   "cell_type": "code",
   "execution_count": 28,
   "metadata": {},
   "outputs": [],
   "source": [
    "en_degrees = get_degrees(G)\n",
    "en_degree_centr = get_degree_centrality(G)"
   ]
  },
  {
   "cell_type": "code",
   "execution_count": 29,
   "metadata": {},
   "outputs": [
    {
     "data": {
      "image/png": "[encoded data removed]",
      "text/plain": [
       "<Figure size 432x288 with 1 Axes>"
      ]
     },
     "metadata": {
      "needs_background": "light"
     },
     "output_type": "display_data"
    }
   ],
   "source": [
    "sns.distplot(en_degree_centr)\n",
    "plt.title('Degree centrality distribution')\n",
    "plt.axvline(en_degree_centr.mean(), label=f\"mean: {en_degree_centr.mean():.2f}\")\n",
    "plt.legend()\n",
    "plt.show()"
   ]
  },
  {
   "cell_type": "code",
   "execution_count": 30,
   "metadata": {},
   "outputs": [],
   "source": [
    "for k,v in en_degree_centr.iteritems():\n",
    "    G.nodes[k]['degree_centr'] = v"
   ]
  },
  {
   "cell_type": "code",
   "execution_count": 31,
   "metadata": {},
   "outputs": [
    {
     "data": {
      "text/plain": [
       "({'graphics': {'x': -560.88116,\n",
       "   'y': -441.51453,\n",
       "   'z': 0.0,\n",
       "   'w': 10.0,\n",
       "   'h': 10.0,\n",
       "   'd': 10.0,\n",
       "   'fill': '#94cc7d'},\n",
       "  'id': 52128315,\n",
       "  'first_name': 'Anastasia',\n",
       "  'last_name': 'Nelidova',\n",
       "  'city': 'Izhevsk',\n",
       "  'university_name': 'ИжГТУ им. М. Т. Калашникова (бывш. ИМИ)',\n",
       "  'faculty_name': 'Приборостроительный факультет',\n",
       "  'pos': (-560.88116, -441.51453),\n",
       "  'size_by_degree': 19.842590514079138,\n",
       "  'degree_centr': 0.1934156378600823},\n",
       " 47.193415637860085,\n",
       " 47)"
      ]
     },
     "execution_count": 31,
     "metadata": {},
     "output_type": "execute_result"
    }
   ],
   "source": [
    "idx = 2\n",
    "G.nodes[en_degree_centr.index[idx]], en_degree_centr.values[idx]*len(G.nodes), nx.degree(G)[en_degree_centr.index[idx]]"
   ]
  },
  {
   "cell_type": "markdown",
   "metadata": {},
   "source": [
    "Nodes interpretation:\n",
    "* 1) (55 mutual friends): Andrey Maximenko: One of Scout leaders from Izhevsk\n",
    "* 2) (49 mutual friends): Tatyana Volnova: Other, more formal, Scout leader from Izhevsk\n",
    "* 3) (47 mutual friends): Anastasia Nelidova: Connected with previous two\n",
    "\n",
    "All are in the biggest connected component"
   ]
  },
  {
   "cell_type": "markdown",
   "metadata": {},
   "source": [
    "### Closeness"
   ]
  },
  {
   "cell_type": "code",
   "execution_count": 32,
   "metadata": {},
   "outputs": [],
   "source": [
    "en_closeness_centr = get_closeness_centr(G)"
   ]
  },
  {
   "cell_type": "code",
   "execution_count": 33,
   "metadata": {},
   "outputs": [
    {
     "data": {
      "image/png": "[encoded data removed]",
      "text/plain": [
       "<Figure size 432x288 with 1 Axes>"
      ]
     },
     "metadata": {
      "needs_background": "light"
     },
     "output_type": "display_data"
    }
   ],
   "source": [
    "sns.distplot(en_closeness_centr)\n",
    "plt.title('Closeness centrality distribution')\n",
    "plt.axvline(en_closeness_centr.mean(), label=f\"mean: {en_closeness_centr.mean():.2f}\")\n",
    "plt.legend()\n",
    "plt.show()"
   ]
  },
  {
   "cell_type": "code",
   "execution_count": 34,
   "metadata": {},
   "outputs": [],
   "source": [
    "for k,v in en_closeness_centr.iteritems():\n",
    "    G.nodes[k]['closeness_centr'] = v"
   ]
  },
  {
   "cell_type": "code",
   "execution_count": 35,
   "metadata": {},
   "outputs": [
    {
     "data": {
      "text/plain": [
       "({'graphics': {'x': -560.88116,\n",
       "   'y': -441.51453,\n",
       "   'z': 0.0,\n",
       "   'w': 10.0,\n",
       "   'h': 10.0,\n",
       "   'd': 10.0,\n",
       "   'fill': '#94cc7d'},\n",
       "  'id': 52128315,\n",
       "  'first_name': 'Anastasia',\n",
       "  'last_name': 'Nelidova',\n",
       "  'city': 'Izhevsk',\n",
       "  'university_name': 'ИжГТУ им. М. Т. Калашникова (бывш. ИМИ)',\n",
       "  'faculty_name': 'Приборостроительный факультет',\n",
       "  'pos': (-560.88116, -441.51453),\n",
       "  'size_by_degree': 19.842590514079138,\n",
       "  'degree_centr': 0.1934156378600823,\n",
       "  'closeness_centr': 0.2741480556711518},\n",
       " 2.296774193548387)"
      ]
     },
     "execution_count": 35,
     "metadata": {},
     "output_type": "execute_result"
    }
   ],
   "source": [
    "idx = 2\n",
    "G.nodes[en_closeness_centr.index[idx]], np.mean(list(dict(nx.shortest_paths.shortest_path_length(G, en_closeness_centr.index[idx])).values()))"
   ]
  },
  {
   "cell_type": "markdown",
   "metadata": {},
   "source": [
    "Nodes interpretation:\n",
    "* 1) (2.18 handshakes) Natalya Bazhenova - A Scout leader who now works in my school\n",
    "* 2) (2.23 handshakes) Irina \"Metel\" - A Scout leader who lives close to my school\n",
    "* 3) (2.3 handshakes)  Anastasia Nelidova - Connected with previous two"
   ]
  },
  {
   "cell_type": "markdown",
   "metadata": {},
   "source": [
    "### Betweeness"
   ]
  },
  {
   "cell_type": "code",
   "execution_count": 36,
   "metadata": {},
   "outputs": [],
   "source": [
    "en_betweeness_centr = get_betweeness_centr(G)"
   ]
  },
  {
   "cell_type": "code",
   "execution_count": 37,
   "metadata": {},
   "outputs": [
    {
     "data": {
      "image/png": "[encoded data removed]",
      "text/plain": [
       "<Figure size 432x288 with 1 Axes>"
      ]
     },
     "metadata": {
      "needs_background": "light"
     },
     "output_type": "display_data"
    }
   ],
   "source": [
    "sns.distplot(en_betweeness_centr)\n",
    "plt.title('Betweeness centrality distribution')\n",
    "plt.axvline(en_betweeness_centr.mean(), label=f\"mean: {en_betweeness_centr.mean():.4f}\")\n",
    "plt.legend()\n",
    "plt.show()"
   ]
  },
  {
   "cell_type": "code",
   "execution_count": 38,
   "metadata": {},
   "outputs": [],
   "source": [
    "for k,v in en_betweeness_centr.iteritems():\n",
    "    G.nodes[k]['betweeness_centr'] = v"
   ]
  },
  {
   "cell_type": "code",
   "execution_count": 39,
   "metadata": {},
   "outputs": [
    {
     "data": {
      "text/plain": [
       "({'graphics': {'x': 35.87362,\n",
       "   'y': -92.172775,\n",
       "   'z': 0.0,\n",
       "   'w': 10.0,\n",
       "   'h': 10.0,\n",
       "   'd': 10.0,\n",
       "   'fill': '#94cc7d'},\n",
       "  'id': 75721602,\n",
       "  'first_name': 'Grisha',\n",
       "  'last_name': 'Mukhachev',\n",
       "  'city': 'Uva',\n",
       "  'university_name': '',\n",
       "  'faculty_name': '',\n",
       "  'pos': (35.87362, -92.172775),\n",
       "  'size_by_degree': 9.101745386768128,\n",
       "  'degree_centr': 0.05349794238683128,\n",
       "  'closeness_centr': 0.18073464410912973,\n",
       "  'betweeness_centr': 0.045267795430744114},\n",
       " 0.045267795430744114)"
      ]
     },
     "execution_count": 39,
     "metadata": {},
     "output_type": "execute_result"
    }
   ],
   "source": [
    "idx = 2\n",
    "G.nodes[en_betweeness_centr.index[idx]], en_betweeness_centr.values[idx]"
   ]
  },
  {
   "cell_type": "markdown",
   "metadata": {},
   "source": [
    "Nodes interpretation:\n",
    "* 1) (8% smallest paths) - Svyatoslav Medvedev - played in a school orchestra, knows some of the family\n",
    "* 2) (4.8% smallest paths) - Vladimir Reznikov - played in a school orchestra, has a blog\n",
    "* 3) (4.5% smallest paths) - Grisha Mukhachev - family, knows Svyatoslav Medvedev"
   ]
  },
  {
   "cell_type": "markdown",
   "metadata": {},
   "source": [
    "## Page-Rank. Comparison with centralities"
   ]
  },
  {
   "cell_type": "code",
   "execution_count": 40,
   "metadata": {},
   "outputs": [],
   "source": [
    "pr = pd.Series(nx.pagerank(G, alpha=0.85)).sort_values(ascending=False)"
   ]
  },
  {
   "cell_type": "code",
   "execution_count": 41,
   "metadata": {},
   "outputs": [
    {
     "data": {
      "image/png": "[encoded data removed]",
      "text/plain": [
       "<Figure size 1080x360 with 3 Axes>"
      ]
     },
     "metadata": {
      "needs_background": "light"
     },
     "output_type": "display_data"
    }
   ],
   "source": [
    "plt.figure(figsize=(15,5))\n",
    "for idx, centr in enumerate([('Degree', en_degree_centr), ('Betweeness', en_betweeness_centr), ('Closeness', en_closeness_centr)]):\n",
    "    plt.subplot(1,3,idx+1)\n",
    "    title, centr = centr\n",
    "    sns.regplot(x=centr.sort_index(), y=pr.sort_index(), line_kws={'color':'orange'})    \n",
    "    plt.title(title)\n",
    "    plt.xlabel(title)\n",
    "    plt.ylabel('Page Rank')\n",
    "plt.tight_layout()\n",
    "plt.suptitle('Page Rank correlation with Centrality metrics', size=16)\n",
    "plt.subplots_adjust(top=0.85)\n",
    "plt.show()"
   ]
  },
  {
   "cell_type": "markdown",
   "metadata": {},
   "source": [
    "Page Rank highly correlates with Degree Centrality. It is expected since Page Rank favors nodes which have a lot of links, i.e. higher degree."
   ]
  },
  {
   "cell_type": "code",
   "execution_count": 42,
   "metadata": {},
   "outputs": [
    {
     "data": {
      "text/plain": [
       "({'graphics': {'x': 103.67067,\n",
       "   'y': -479.10315,\n",
       "   'z': 0.0,\n",
       "   'w': 10.0,\n",
       "   'h': 10.0,\n",
       "   'd': 10.0,\n",
       "   'fill': '#94cc7d'},\n",
       "  'id': 269933041,\n",
       "  'first_name': 'Viktor',\n",
       "  'last_name': 'Galushko',\n",
       "  'city': 'Moscow',\n",
       "  'university_name': 'УРИО (бывш. УРАО)',\n",
       "  'faculty_name': '',\n",
       "  'pos': (103.67067, -479.10315),\n",
       "  'size_by_degree': 8.83275828030883,\n",
       "  'degree_centr': 0.04938271604938272,\n",
       "  'closeness_centr': 0.05084745762711864,\n",
       "  'betweeness_centr': 0.00448366946683445},\n",
       " 0.01013911568757412)"
      ]
     },
     "execution_count": 42,
     "metadata": {},
     "output_type": "execute_result"
    }
   ],
   "source": [
    "idx = 2\n",
    "G.nodes[pr.index[idx]], pr.values[idx]"
   ]
  },
  {
   "cell_type": "markdown",
   "metadata": {},
   "source": [
    "Nodes interpretation:\n",
    "* 1) (1.13%) - Maxim Sterkhov - играл в школьном оркестре\n",
    "* 2) (1.03%) - Andrey Maximenko - Scout leader\n",
    "* 3) (4.5%) - Viktor Galushko - Head of Bauman Physical education class"
   ]
  },
  {
   "cell_type": "markdown",
   "metadata": {},
   "source": [
    "## Assortative Mixing according to node attributes"
   ]
  },
  {
   "cell_type": "code",
   "execution_count": 43,
   "metadata": {},
   "outputs": [
    {
     "data": {
      "text/plain": [
       "city               0.210493\n",
       "university_name    0.103921\n",
       "faculty_name       0.078636\n",
       "dtype: float64"
      ]
     },
     "execution_count": 43,
     "metadata": {},
     "output_type": "execute_result"
    }
   ],
   "source": [
    "pd.Series({attr: nx.assortativity.attribute_assortativity_coefficient(G, attr) for attr in ['city', 'university_name', 'faculty_name']})"
   ]
  },
  {
   "cell_type": "markdown",
   "metadata": {},
   "source": [
    "## Node structural equivalence/similarity"
   ]
  },
  {
   "cell_type": "code",
   "execution_count": 44,
   "metadata": {},
   "outputs": [],
   "source": [
    "import scipy.spatial as spt"
   ]
  },
  {
   "cell_type": "code",
   "execution_count": 45,
   "metadata": {},
   "outputs": [],
   "source": [
    "def plotDist(A, figsize=(10,10)):\n",
    "    f, ax = plt.subplots(2, 2, figsize=figsize)\n",
    "    ax[0, 0].imshow(A, cmap = 'Greys', interpolation = 'None')\n",
    "    ax[0, 0].set_title('Adjacency Matrix')\n",
    "    \n",
    "    D = np.corrcoef(A)\n",
    "    ax[1, 0].imshow(D, cmap = 'Greys', interpolation = 'None')\n",
    "    ax[1, 0].set_title('Correlation coeff.')\n",
    "    \n",
    "    dVec = spt.distance.pdist(A, metric = 'euclidean')\n",
    "    D = spt.distance.squareform(dVec)\n",
    "    ax[0, 1].imshow(D, cmap = 'Greys', interpolation = 'None')\n",
    "    ax[0, 1].set_title('Euclidean Dist.')\n",
    "    \n",
    "    dVec = spt.distance.pdist(A, metric = 'cosine')\n",
    "    D = spt.distance.squareform(dVec)\n",
    "    ax[1, 1].imshow(D, cmap = 'Greys', interpolation = 'None')\n",
    "    ax[1, 1].set_title('Cosine Dist.')"
   ]
  },
  {
   "cell_type": "code",
   "execution_count": 46,
   "metadata": {},
   "outputs": [],
   "source": [
    "cm = list(nx.utils.reverse_cuthill_mckee_ordering(G))\n",
    "A = nx.adjacency_matrix(G, nodelist=cm).todense()"
   ]
  },
  {
   "cell_type": "code",
   "execution_count": 47,
   "metadata": {},
   "outputs": [
    {
     "name": "stderr",
     "output_type": "stream",
     "text": [
      "/root/anaconda3/lib/python3.7/site-packages/numpy/lib/function_base.py:2534: RuntimeWarning:\n",
      "\n",
      "invalid value encountered in true_divide\n",
      "\n",
      "/root/anaconda3/lib/python3.7/site-packages/numpy/lib/function_base.py:2535: RuntimeWarning:\n",
      "\n",
      "invalid value encountered in true_divide\n",
      "\n"
     ]
    },
    {
     "data": {
      "image/png": "[encoded data removed]",
      "text/plain": [
       "<Figure size 504x504 with 4 Axes>"
      ]
     },
     "metadata": {
      "needs_background": "light"
     },
     "output_type": "display_data"
    }
   ],
   "source": [
    "plotDist(A, figsize=(7,7))\n",
    "plt.tight_layout()\n",
    "plt.show()"
   ]
  },
  {
   "cell_type": "markdown",
   "metadata": {},
   "source": [
    "## The closest random graph model similar to my SN"
   ]
  },
  {
   "cell_type": "markdown",
   "metadata": {},
   "source": [
    "### Erdos-Renyi Graph model"
   ]
  },
  {
   "cell_type": "markdown",
   "metadata": {},
   "source": [
    "$$ p = \\frac{N_{edges}}{N_{possible\\ edges}} $$\n",
    "$$ N_{possible\\ edges} = \\frac{N_{nodes}(N_{nodes}-1)}{2} $$"
   ]
  },
  {
   "cell_type": "code",
   "execution_count": 48,
   "metadata": {},
   "outputs": [
    {
     "data": {
      "text/plain": [
       "(244, 0.055892869189772654)"
      ]
     },
     "execution_count": 48,
     "metadata": {},
     "output_type": "execute_result"
    }
   ],
   "source": [
    "n = len(G.nodes)\n",
    "p = len(G.edges)/(n*(n-1)/2)\n",
    "n, p"
   ]
  },
  {
   "cell_type": "code",
   "execution_count": 49,
   "metadata": {},
   "outputs": [],
   "source": [
    "er_G = nx.erdos_renyi_graph(n, p)\n",
    "er_degree_centr = get_degree_centrality(er_G)\n",
    "er_closeness_centr = get_closeness_centr(er_G)\n",
    "er_betweeness_centr = get_betweeness_centr(er_G)"
   ]
  },
  {
   "cell_type": "markdown",
   "metadata": {},
   "source": [
    "### Preferential attachment"
   ]
  },
  {
   "cell_type": "markdown",
   "metadata": {},
   "source": [
    "$$ N_{edges} = m(N_{nodes}-m) $$\n",
    "$$ m^2 - N_{nodes}m + N_{edges} = 0 $$\n",
    "$$ m = \\frac{1}{2}\\left(N_{nodes} \\pm \\sqrt{N_{nodes}^2-4N_{edges}} \\right) $$"
   ]
  },
  {
   "cell_type": "code",
   "execution_count": 50,
   "metadata": {},
   "outputs": [
    {
     "data": {
      "text/plain": [
       "(244, 7)"
      ]
     },
     "execution_count": 50,
     "metadata": {},
     "output_type": "execute_result"
    }
   ],
   "source": [
    "n = len(G.nodes)\n",
    "m = (n-np.sqrt(n**2-4*len(G.edges)))/2\n",
    "m = np.round(m).astype(int)\n",
    "n, m"
   ]
  },
  {
   "cell_type": "code",
   "execution_count": 51,
   "metadata": {},
   "outputs": [],
   "source": [
    "ba_G = nx.barabasi_albert_graph(n, m)\n",
    "ba_degree_centr = get_degree_centrality(ba_G)\n",
    "ba_closeness_centr = get_closeness_centr(ba_G)\n",
    "ba_betweeness_centr = get_betweeness_centr(ba_G)"
   ]
  },
  {
   "cell_type": "code",
   "execution_count": 52,
   "metadata": {},
   "outputs": [
    {
     "data": {
      "text/plain": [
       "(1659, 1657)"
      ]
     },
     "execution_count": 52,
     "metadata": {},
     "output_type": "execute_result"
    }
   ],
   "source": [
    "len(ba_G.edges()), len(G.edges)"
   ]
  },
  {
   "cell_type": "markdown",
   "metadata": {},
   "source": [
    "### Small World"
   ]
  },
  {
   "cell_type": "markdown",
   "metadata": {},
   "source": [
    "$$ N_{edges} = \\frac{N_{nodes}*k}{2} $$\n",
    "$$ k = \\frac{2N_{edges}}{N_{nodes}} $$"
   ]
  },
  {
   "cell_type": "code",
   "execution_count": 53,
   "metadata": {},
   "outputs": [
    {
     "data": {
      "text/plain": [
       "(244, 14)"
      ]
     },
     "execution_count": 53,
     "metadata": {},
     "output_type": "execute_result"
    }
   ],
   "source": [
    "n = len(G.nodes)\n",
    "k = np.round(2*len(G.edges)/len(G.nodes)).astype(int)\n",
    "n, k"
   ]
  },
  {
   "cell_type": "markdown",
   "metadata": {},
   "source": [
    "Choosing Probability of rewiring"
   ]
  },
  {
   "cell_type": "code",
   "execution_count": 54,
   "metadata": {},
   "outputs": [],
   "source": [
    "ps = np.logspace(-6, 0, 101)\n",
    "errors = []\n",
    "for p in ps:\n",
    "    centrs = [get_degree_centrality(nx.watts_strogatz_graph(n,k,p)) for i in range(10)]\n",
    "          \n",
    "    errors.append(np.mean([(centr.mean()-en_degree_centr.mean())**2 for centr in centrs]))"
   ]
  },
  {
   "cell_type": "code",
   "execution_count": 55,
   "metadata": {},
   "outputs": [
    {
     "data": {
      "image/png": "[encoded data removed]",
      "text/plain": [
       "<Figure size 432x288 with 1 Axes>"
      ]
     },
     "metadata": {
      "needs_background": "light"
     },
     "output_type": "display_data"
    }
   ],
   "source": [
    "plt.plot(ps, errors)\n",
    "plt.xlabel('Probality of rewiring')\n",
    "plt.ylabel('MSE of degree centrality')\n",
    "plt.suptitle('Estimating Best Probability value for Small World graph')\n",
    "plt.show()"
   ]
  },
  {
   "cell_type": "code",
   "execution_count": 56,
   "metadata": {},
   "outputs": [
    {
     "data": {
      "text/plain": [
       "1.0"
      ]
     },
     "execution_count": 56,
     "metadata": {},
     "output_type": "execute_result"
    }
   ],
   "source": [
    "p = ps[np.argmin(errors)]\n",
    "p"
   ]
  },
  {
   "cell_type": "code",
   "execution_count": 57,
   "metadata": {},
   "outputs": [],
   "source": [
    "ws_G = nx.watts_strogatz_graph(n, k, p)\n",
    "ws_degree_centr = get_degree_centrality(ws_G)\n",
    "ws_closeness_centr = get_closeness_centr(ws_G)\n",
    "ws_betweeness_centr = get_betweeness_centr(ws_G)"
   ]
  },
  {
   "cell_type": "code",
   "execution_count": 58,
   "metadata": {},
   "outputs": [
    {
     "data": {
      "text/plain": [
       "(1708, 1657)"
      ]
     },
     "execution_count": 58,
     "metadata": {},
     "output_type": "execute_result"
    }
   ],
   "source": [
    "len(ws_G.edges()), len(G.edges)"
   ]
  },
  {
   "cell_type": "markdown",
   "metadata": {},
   "source": [
    "## Combining Random Graph models"
   ]
  },
  {
   "cell_type": "code",
   "execution_count": 59,
   "metadata": {},
   "outputs": [
    {
     "data": {
      "image/png": "[encoded data removed]",
      "text/plain": [
       "<Figure size 1080x216 with 3 Axes>"
      ]
     },
     "metadata": {
      "needs_background": "light"
     },
     "output_type": "display_data"
    }
   ],
   "source": [
    "plt.figure(figsize=(15,3))\n",
    "for idx, data in enumerate([(en_degree_centr, er_degree_centr, ba_degree_centr, ws_degree_centr, 'Degree Centrality'),\n",
    "                             (en_betweeness_centr, er_betweeness_centr, ba_degree_centr, ws_betweeness_centr,  'Betweeness Centrality'),\n",
    "                             (en_closeness_centr, er_closeness_centr, ba_closeness_centr, ws_closeness_centr, 'Closeness Centrality' )\n",
    "                            ]):\n",
    "    plt.subplot(1, 3, idx+1)\n",
    "    for idx_, label in enumerate(['Ego network', 'Random graph', 'Preferential attachment', 'Small World',]):\n",
    "        if data[idx_].var()>1e-10:\n",
    "            sns.distplot(data[idx_], label=f'{label}: {data[idx_].mean():.2f}', kde=True)    \n",
    "        else:\n",
    "            sns.distplot(data[idx_], label=f'{label}: {data[idx_].mean():.2f}', kde=False)    \n",
    "    plt.title(data[-1])\n",
    "    plt.legend()\n",
    "    \n",
    "\n",
    "plt.tight_layout()\n",
    "plt.show()"
   ]
  },
  {
   "cell_type": "markdown",
   "metadata": {},
   "source": [
    "Choose best Random Graph model"
   ]
  },
  {
   "cell_type": "code",
   "execution_count": 60,
   "metadata": {},
   "outputs": [
    {
     "data": {
      "text/html": [
       "<div>\n",
       "<style scoped>\n",
       "    .dataframe tbody tr th:only-of-type {\n",
       "        vertical-align: middle;\n",
       "    }\n",
       "\n",
       "    .dataframe tbody tr th {\n",
       "        vertical-align: top;\n",
       "    }\n",
       "\n",
       "    .dataframe thead th {\n",
       "        text-align: right;\n",
       "    }\n",
       "</style>\n",
       "<table border=\"1\" class=\"dataframe\">\n",
       "  <thead>\n",
       "    <tr style=\"text-align: right;\">\n",
       "      <th></th>\n",
       "      <th>Degree</th>\n",
       "      <th>Betweeness</th>\n",
       "      <th>Closeness</th>\n",
       "    </tr>\n",
       "  </thead>\n",
       "  <tbody>\n",
       "    <tr>\n",
       "      <th>Ego</th>\n",
       "      <td>0.041152</td>\n",
       "      <td>0.000317</td>\n",
       "      <td>0.193645</td>\n",
       "    </tr>\n",
       "    <tr>\n",
       "      <th>Random graph</th>\n",
       "      <td>0.053498</td>\n",
       "      <td>0.005246</td>\n",
       "      <td>0.418605</td>\n",
       "    </tr>\n",
       "    <tr>\n",
       "      <th>Preferential attachment</th>\n",
       "      <td>0.041152</td>\n",
       "      <td>0.001973</td>\n",
       "      <td>0.424825</td>\n",
       "    </tr>\n",
       "    <tr>\n",
       "      <th>Small World</th>\n",
       "      <td>0.057613</td>\n",
       "      <td>0.005347</td>\n",
       "      <td>0.422977</td>\n",
       "    </tr>\n",
       "  </tbody>\n",
       "</table>\n",
       "</div>"
      ],
      "text/plain": [
       "                           Degree  Betweeness  Closeness\n",
       "Ego                      0.041152    0.000317   0.193645\n",
       "Random graph             0.053498    0.005246   0.418605\n",
       "Preferential attachment  0.041152    0.001973   0.424825\n",
       "Small World              0.057613    0.005347   0.422977"
      ]
     },
     "execution_count": 60,
     "metadata": {},
     "output_type": "execute_result"
    }
   ],
   "source": [
    "rg_ds = pd.DataFrame(index=['Ego','Random graph', 'Preferential attachment', 'Small World'])\n",
    "rg_ds['Degree'] = [x.median() for x in [en_degree_centr, er_degree_centr, ba_degree_centr, ws_degree_centr]]\n",
    "rg_ds['Betweeness'] = [x.median() for x in [en_betweeness_centr, er_betweeness_centr, ba_betweeness_centr, ws_betweeness_centr]]\n",
    "rg_ds['Closeness'] = [x.median() for x in [en_closeness_centr, er_closeness_centr, ba_closeness_centr, ws_closeness_centr]]\n",
    "rg_ds"
   ]
  },
  {
   "cell_type": "code",
   "execution_count": 61,
   "metadata": {},
   "outputs": [
    {
     "data": {
      "text/html": [
       "<div>\n",
       "<style scoped>\n",
       "    .dataframe tbody tr th:only-of-type {\n",
       "        vertical-align: middle;\n",
       "    }\n",
       "\n",
       "    .dataframe tbody tr th {\n",
       "        vertical-align: top;\n",
       "    }\n",
       "\n",
       "    .dataframe thead th {\n",
       "        text-align: right;\n",
       "    }\n",
       "</style>\n",
       "<table border=\"1\" class=\"dataframe\">\n",
       "  <thead>\n",
       "    <tr style=\"text-align: right;\">\n",
       "      <th></th>\n",
       "      <th>Degree</th>\n",
       "      <th>Betweeness</th>\n",
       "      <th>Closeness</th>\n",
       "      <th>Mean Rank</th>\n",
       "    </tr>\n",
       "  </thead>\n",
       "  <tbody>\n",
       "    <tr>\n",
       "      <th>Ego</th>\n",
       "      <td>1.5</td>\n",
       "      <td>1.0</td>\n",
       "      <td>1.0</td>\n",
       "      <td>1.166667</td>\n",
       "    </tr>\n",
       "    <tr>\n",
       "      <th>Random graph</th>\n",
       "      <td>3.0</td>\n",
       "      <td>3.0</td>\n",
       "      <td>2.0</td>\n",
       "      <td>2.666667</td>\n",
       "    </tr>\n",
       "    <tr>\n",
       "      <th>Preferential attachment</th>\n",
       "      <td>1.5</td>\n",
       "      <td>2.0</td>\n",
       "      <td>4.0</td>\n",
       "      <td>2.500000</td>\n",
       "    </tr>\n",
       "    <tr>\n",
       "      <th>Small World</th>\n",
       "      <td>4.0</td>\n",
       "      <td>4.0</td>\n",
       "      <td>3.0</td>\n",
       "      <td>3.666667</td>\n",
       "    </tr>\n",
       "  </tbody>\n",
       "</table>\n",
       "</div>"
      ],
      "text/plain": [
       "                         Degree  Betweeness  Closeness  Mean Rank\n",
       "Ego                         1.5         1.0        1.0   1.166667\n",
       "Random graph                3.0         3.0        2.0   2.666667\n",
       "Preferential attachment     1.5         2.0        4.0   2.500000\n",
       "Small World                 4.0         4.0        3.0   3.666667"
      ]
     },
     "execution_count": 61,
     "metadata": {},
     "output_type": "execute_result"
    }
   ],
   "source": [
    "rg_ds = (rg_ds-rg_ds.loc['Ego']).abs().rank()\n",
    "rg_ds['Mean Rank'] = rg_ds.rank().mean(1)\n",
    "rg_ds"
   ]
  },
  {
   "cell_type": "markdown",
   "metadata": {},
   "source": [
    "No Random Graph is ideal for my network. In general Preferential attachment model gives better results."
   ]
  },
  {
   "cell_type": "markdown",
   "metadata": {},
   "source": [
    "# Community Detection"
   ]
  },
  {
   "cell_type": "markdown",
   "metadata": {},
   "source": [
    "## Clique search"
   ]
  },
  {
   "cell_type": "code",
   "execution_count": 62,
   "metadata": {},
   "outputs": [],
   "source": [
    "cliques = list(nx.find_cliques(G))"
   ]
  },
  {
   "cell_type": "code",
   "execution_count": 63,
   "metadata": {},
   "outputs": [],
   "source": [
    "cliques = sorted(cliques, key=lambda x: -len(x))"
   ]
  },
  {
   "cell_type": "code",
   "execution_count": 64,
   "metadata": {},
   "outputs": [
    {
     "data": {
      "image/png": "[encoded data removed]",
      "text/plain": [
       "<Figure size 432x288 with 1 Axes>"
      ]
     },
     "metadata": {
      "needs_background": "light"
     },
     "output_type": "display_data"
    }
   ],
   "source": [
    "sns.distplot([len(x) for x in cliques])\n",
    "plt.title('Distribution of size of the cliques')\n",
    "plt.show()"
   ]
  },
  {
   "cell_type": "markdown",
   "metadata": {},
   "source": [
    "People are actively communicate in groups of 5 and 10 persons. Which is coherent with the basic theory of amount of people in small in medium size teams."
   ]
  },
  {
   "cell_type": "markdown",
   "metadata": {},
   "source": [
    "## Best results of various community detection algorithms"
   ]
  },
  {
   "cell_type": "code",
   "execution_count": 65,
   "metadata": {},
   "outputs": [],
   "source": [
    "def get_community_colors(com):\n",
    "    #put all one-node communities to a single community\n",
    "    one_node_comms = [c for c in com if len(c)==1]\n",
    "    one_node_comms = frozenset([y for x in one_node_comms for y in x])\n",
    "    com = [c for c in com if len(c)>1]+[one_node_comms]\n",
    "    com = sorted(com, key=lambda x: -len(x))\n",
    "    \n",
    "    # get color index for every node\n",
    "    colors_ = {x:idx for idx,c in enumerate(com) for x in c}\n",
    "    colors_ = {x: colors_.get(x, len(set(colors_.values()))) for x in nodelist}\n",
    "\n",
    "    # assign rgb color to node base on community\n",
    "    palette = sns.color_palette(n_colors=len(set(colors_.values())))\n",
    "    palette = ['rgb('+','.join([f\"{int(x*255)}\" for x in c])+')' for c in palette]\n",
    "    colors_ = [palette[colors_[n]] for n in nodelist]\n",
    "    return com, colors_"
   ]
  },
  {
   "cell_type": "markdown",
   "metadata": {},
   "source": [
    "### k-clique"
   ]
  },
  {
   "cell_type": "code",
   "execution_count": 66,
   "metadata": {},
   "outputs": [],
   "source": [
    "com_kclique = list(nx.community.k_clique_communities(G, 3))\n",
    "com_kclique, colors_ = get_community_colors(com_kclique)"
   ]
  },
  {
   "cell_type": "raw",
   "metadata": {
    "scrolled": false
   },
   "source": [
    "plotly_graph(G, colors_, sizes_by_degree, title='K-clique community detection')"
   ]
  },
  {
   "cell_type": "markdown",
   "metadata": {},
   "source": [
    "![kclique](../imgs/kclique_comunity.png)"
   ]
  },
  {
   "cell_type": "code",
   "execution_count": 67,
   "metadata": {},
   "outputs": [],
   "source": [
    "d = {n:idx for idx, c in enumerate(com_kclique) for n in c}\n",
    "for n in G.nodes:\n",
    "    G.nodes[n]['k-clique'] = d.get(n, max(d.values())+1)"
   ]
  },
  {
   "cell_type": "markdown",
   "metadata": {},
   "source": [
    "### Modularity based"
   ]
  },
  {
   "cell_type": "code",
   "execution_count": 68,
   "metadata": {},
   "outputs": [],
   "source": [
    "com_mod = nx.algorithms.community.modularity_max.greedy_modularity_communities(G)\n",
    "com_mod, colors_ = get_community_colors(com_mod)"
   ]
  },
  {
   "cell_type": "raw",
   "metadata": {
    "scrolled": false
   },
   "source": [
    "plotly_graph(G, colors_, sizes_by_degree, title='Modularity based community detection')"
   ]
  },
  {
   "cell_type": "markdown",
   "metadata": {},
   "source": [
    "![mod_comunity](../imgs/modularity_based_comunity.png)"
   ]
  },
  {
   "cell_type": "code",
   "execution_count": 69,
   "metadata": {},
   "outputs": [],
   "source": [
    "d = {n:idx for idx, c in enumerate(com_mod) for n in c}\n",
    "for n in G.nodes:\n",
    "    G.nodes[n]['Modularity based community'] = d.get(n, max(d.values())+1)"
   ]
  },
  {
   "cell_type": "markdown",
   "metadata": {},
   "source": [
    "### Girvan-Newman"
   ]
  },
  {
   "cell_type": "code",
   "execution_count": 70,
   "metadata": {},
   "outputs": [],
   "source": [
    "from tqdm.notebook import tqdm"
   ]
  },
  {
   "cell_type": "code",
   "execution_count": 71,
   "metadata": {},
   "outputs": [],
   "source": [
    "from itertools import islice"
   ]
  },
  {
   "cell_type": "code",
   "execution_count": 72,
   "metadata": {},
   "outputs": [],
   "source": [
    "com_gns = [c for c in islice(nx.algorithms.community.centrality.girvan_newman(G), 5)]"
   ]
  },
  {
   "cell_type": "code",
   "execution_count": 73,
   "metadata": {},
   "outputs": [],
   "source": [
    "com_gn = com_gns[3]"
   ]
  },
  {
   "cell_type": "code",
   "execution_count": 74,
   "metadata": {},
   "outputs": [],
   "source": [
    "com_gn, colors_ = get_community_colors(com_gn)"
   ]
  },
  {
   "cell_type": "raw",
   "metadata": {
    "scrolled": false
   },
   "source": [
    "plotly_graph(G, colors_, sizes_by_degree, title='Girvan-Newman community detection')"
   ]
  },
  {
   "cell_type": "markdown",
   "metadata": {},
   "source": [
    "![girvan_newman](../imgs/girvan_newman_comunity.png)"
   ]
  },
  {
   "cell_type": "code",
   "execution_count": 75,
   "metadata": {},
   "outputs": [],
   "source": [
    "d = {n:idx for idx, c in enumerate(com_gn) for n in c}\n",
    "for n in G.nodes:\n",
    "    G.nodes[n]['Girvan-Newman community'] = d.get(n, max(d.values())+1)"
   ]
  },
  {
   "cell_type": "code",
   "execution_count": 76,
   "metadata": {},
   "outputs": [],
   "source": [
    "d_ = {0: 'Scouts',\n",
    " 1: 'School',\n",
    " 2: 'BMSTU',\n",
    " 3: 'Family',\n",
    " 4: 'BMSTU Orchestra',\n",
    " 5: 'BMSTU Physical Education',\n",
    " 6: 'No mutual friends',\n",
    " 7: 'HSE',\n",
    " 8: 'Summer Camp',\n",
    " 9: 'Summer Camp 2'}\n",
    "for n in G.nodes:\n",
    "    G.nodes[n]['Community'] = d_[d[n]]"
   ]
  },
  {
   "cell_type": "markdown",
   "metadata": {},
   "source": [
    "## Incremental algorithms presented during classes"
   ]
  },
  {
   "cell_type": "code",
   "execution_count": 77,
   "metadata": {},
   "outputs": [],
   "source": [
    "def MCL(A, tol, p, alpha):\n",
    "    step = 1\n",
    "    col_sums = A.sum(axis = 0)\n",
    "    T = A / col_sums[np.newaxis, :]\n",
    "    M = T\n",
    "    M = np.nan_to_num(M)\n",
    "    while(1):\n",
    "        step += 1\n",
    "        # Expancion step:\n",
    "        M1 = np.linalg.matrix_power(M, p)\n",
    "        # Inflation step:\n",
    "        M1 = np.power(M1, alpha)\n",
    "        col_sums = M1.sum(axis = 0)\n",
    "        M1 = M1 / col_sums[np.newaxis, :]\n",
    "        M1 = np.nan_to_num(M1)\n",
    "        M1[M1<=tol] = 0\n",
    "        if np.linalg.norm(M - M1) == 0:\n",
    "            return M1\n",
    "        else:\n",
    "            M = M1.copy()"
   ]
  },
  {
   "cell_type": "code",
   "execution_count": 78,
   "metadata": {},
   "outputs": [],
   "source": [
    "def MCL_communities(A, tol, p, alpha, cm):\n",
    "    M = MCL(np.array(A), tol, p, alpha)\n",
    "\n",
    "    com_mcl = []\n",
    "    for idx, n in enumerate(cm):\n",
    "        if M[idx].sum()>0:\n",
    "            com = set([n]+[cm[idx_] for idx_,v in enumerate(M[idx]) if v==1])\n",
    "            com_mcl.append(frozenset(com))\n",
    "    return com_mcl"
   ]
  },
  {
   "cell_type": "code",
   "execution_count": 79,
   "metadata": {},
   "outputs": [],
   "source": [
    "cm = list(nx.utils.reverse_cuthill_mckee_ordering(G))\n",
    "A = nx.adjacency_matrix(G, nodelist=cm).todense()"
   ]
  },
  {
   "cell_type": "markdown",
   "metadata": {},
   "source": [
    "Empiricaly find the best tolerance value"
   ]
  },
  {
   "cell_type": "code",
   "execution_count": 80,
   "metadata": {},
   "outputs": [
    {
     "data": {
      "application/vnd.jupyter.widget-view+json": {
       "model_id": "bdba7a1a14834cb6ba9c17c5c84b2624",
       "version_major": 2,
       "version_minor": 0
      },
      "text/plain": [
       "HBox(children=(FloatProgress(value=0.0), HTML(value='')))"
      ]
     },
     "metadata": {},
     "output_type": "display_data"
    },
    {
     "name": "stderr",
     "output_type": "stream",
     "text": [
      "/root/anaconda3/lib/python3.7/site-packages/ipykernel_launcher.py:4: RuntimeWarning:\n",
      "\n",
      "invalid value encountered in true_divide\n",
      "\n",
      "/root/anaconda3/lib/python3.7/site-packages/ipykernel_launcher.py:14: RuntimeWarning:\n",
      "\n",
      "invalid value encountered in true_divide\n",
      "\n"
     ]
    },
    {
     "name": "stdout",
     "output_type": "stream",
     "text": [
      "\n"
     ]
    }
   ],
   "source": [
    "tols = list(np.linspace(0.00001, 1, 100))\n",
    "com_lens = []\n",
    "for t in tqdm(tols):\n",
    "    com_mcl = MCL_communities(A, t, 2, 2, cm)\n",
    "    com_mcl, colors_ = get_community_colors(com_mcl)\n",
    "    com_lens.append(len(com_mcl))\n",
    "com_lens = np.array(com_lens)"
   ]
  },
  {
   "cell_type": "code",
   "execution_count": 81,
   "metadata": {},
   "outputs": [
    {
     "data": {
      "image/png": "[encoded data removed]",
      "text/plain": [
       "<Figure size 432x288 with 1 Axes>"
      ]
     },
     "metadata": {
      "needs_background": "light"
     },
     "output_type": "display_data"
    }
   ],
   "source": [
    "plt.plot(tols, com_lens)\n",
    "plt.title('Number of communities based on MCL tolerance')\n",
    "plt.xlabel('Tolerance')\n",
    "plt.ylabel('Number of communities')\n",
    "plt.show()"
   ]
  },
  {
   "cell_type": "code",
   "execution_count": 82,
   "metadata": {},
   "outputs": [],
   "source": [
    "t = tols[np.argmax(com_lens==3)]"
   ]
  },
  {
   "cell_type": "code",
   "execution_count": 83,
   "metadata": {},
   "outputs": [
    {
     "name": "stderr",
     "output_type": "stream",
     "text": [
      "/root/anaconda3/lib/python3.7/site-packages/ipykernel_launcher.py:4: RuntimeWarning:\n",
      "\n",
      "invalid value encountered in true_divide\n",
      "\n",
      "/root/anaconda3/lib/python3.7/site-packages/ipykernel_launcher.py:14: RuntimeWarning:\n",
      "\n",
      "invalid value encountered in true_divide\n",
      "\n"
     ]
    }
   ],
   "source": [
    "com_mcl = MCL_communities(A, t, 2, 2, cm)\n",
    "com_mcl, colors_ = get_community_colors(com_mcl)"
   ]
  },
  {
   "cell_type": "raw",
   "metadata": {
    "scrolled": false
   },
   "source": [
    "plotly_graph(G, colors_, sizes_by_degree, title='MCL community detection')"
   ]
  },
  {
   "cell_type": "code",
   "execution_count": 84,
   "metadata": {},
   "outputs": [],
   "source": [
    "d = {n:idx for idx, c in enumerate(com_mcl) for n in c}\n",
    "for n in G.nodes:\n",
    "    G.nodes[n]['MCL community'] = d.get(n, max(d.values())+1)"
   ]
  },
  {
   "cell_type": "markdown",
   "metadata": {},
   "source": [
    "# Save model for Gephi visualization"
   ]
  },
  {
   "cell_type": "code",
   "execution_count": 85,
   "metadata": {},
   "outputs": [],
   "source": [
    "G_fin = G.copy()\n",
    "for n in G_fin.nodes:\n",
    "    del G_fin.nodes[n]['pos']"
   ]
  },
  {
   "cell_type": "code",
   "execution_count": 86,
   "metadata": {},
   "outputs": [],
   "source": [
    "nx.write_gexf(G_fin, 'graph_final.gexf')"
   ]
  }
 ],
 "metadata": {
  "kernelspec": {
   "display_name": "Python 3",
   "language": "python",
   "name": "python3"
  },
  "language_info": {
   "codemirror_mode": {
    "name": "ipython",
    "version": 3
   },
   "file_extension": ".py",
   "mimetype": "text/x-python",
   "name": "python",
   "nbconvert_exporter": "python",
   "pygments_lexer": "ipython3",
   "version": "3.7.6"
  }
 },
 "nbformat": 4,
 "nbformat_minor": 4
}
