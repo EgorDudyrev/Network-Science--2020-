{
 "cells": [
  {
   "cell_type": "markdown",
   "metadata": {},
   "source": [
    "# Project 2\n",
    "## Marketing Campaign\n",
    "### Overview"
   ]
  },
  {
   "cell_type": "markdown",
   "metadata": {},
   "source": [
    "You are running the marketing campaign for a brand new pocket device. Initially you can sign contracts with a few people to advertize your gadget among their neigbours. The more \"famous\" person you are picking the greater price appears in the contract. Contract cost can be calculated as $300\\$ \\times NN(i)$, where $NN(i)$ is the number of neigbours of the person $i$. If at least 17% a person's neighbors have already been affected, then he/she will also be affected tomorrow. You earn $70\\$ $ per each affected person. Every day you have to choose whether to sign new contracts or wait. You need time to discuss terms of a contract, so you cannot sign more than 10 contracts on the same day. Your task is to maximize profit of your campaign with an initial budget of $60,000\\$ $. Your campaign is considered completed after 60 days or if you have the same affected people today as yesterday.\n",
    "\n",
    "Again, all parameters of the task:\n",
    "* Budget: $60,000\\$ $\n",
    "* Contract cost: $300\\$ \\times NN(i)$\n",
    "* Income per person: $70\\$ $\n",
    "* Exposure threshold: 17%\n",
    "* Contracts limit: 10 per day\n",
    "* Time limit: 60 days"
   ]
  },
  {
   "cell_type": "markdown",
   "metadata": {},
   "source": [
    "### Evaluation Criteria"
   ]
  },
  {
   "cell_type": "markdown",
   "metadata": {},
   "source": [
    "On the liderboard you will see three scores:\n",
    "1. Profit — calculated as \"total amount of money at the end - initial budget\". This is the main score.\n",
    "2. Accepted — the total number of accepted people at the end.\n",
    "3. Days — the total duration of your campaign.\n",
    "\n",
    "You pass the competition with grade 4 at least, if you profit is positive and outperforms the baseline. The baseline is calculated as:\n",
    "1. Simultaneously sign 10 random contracts on the first day. Decrease the number of contracts if you do not have enough money.\n",
    "2. Wait the end of the campaign. Calculate your profit.\n",
    "3. Repeat 10,000 times. The baseline is an average positive profit.\n",
    "\n",
    "But again, your task is to beat the baseline, not calculate it."
   ]
  },
  {
   "cell_type": "markdown",
   "metadata": {},
   "source": [
    "### Dataset"
   ]
  },
  {
   "cell_type": "markdown",
   "metadata": {},
   "source": [
    "The network of people is combined from [SNAP Facebook datasets](https://snap.stanford.edu/data/egonets-Facebook.html), with the exception of ego nodes. You can obtain the network using this code:"
   ]
  },
  {
   "cell_type": "code",
   "execution_count": null,
   "metadata": {},
   "outputs": [],
   "source": [
    "import numpy as np\n",
    "import networkx as nx\n",
    "\n",
    "G = nx.Graph()\n",
    "nodes = [0, 107, 348, 414, 686, 698, 1684, 1912, 3437, 3980]\n",
    "for i in nodes:    \n",
    "    edges = np.loadtxt('facebook/{}.edges'.format(i), dtype=\"i8, i8\")\n",
    "    G.add_edges_from(edges)\n",
    "G.remove_nodes_from(nodes)"
   ]
  },
  {
   "cell_type": "markdown",
   "metadata": {},
   "source": [
    "Also you can download the network from this GitHub repository and load using this code:"
   ]
  },
  {
   "cell_type": "code",
   "execution_count": null,
   "metadata": {},
   "outputs": [],
   "source": [
    "import networkx as nx\n",
    "G = nx.read_edgelist('edge_list.txt', nodetype=int)"
   ]
  }
 ],
 "metadata": {
  "kernelspec": {
   "display_name": "Python 3",
   "language": "python",
   "name": "python3"
  },
  "language_info": {
   "codemirror_mode": {
    "name": "ipython",
    "version": 3
   },
   "file_extension": ".py",
   "mimetype": "text/x-python",
   "name": "python",
   "nbconvert_exporter": "python",
   "pygments_lexer": "ipython3",
   "version": "3.7.4"
  }
 },
 "nbformat": 4,
 "nbformat_minor": 1
}